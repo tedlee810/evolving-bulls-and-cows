{
 "cells": [
  {
   "cell_type": "markdown",
   "metadata": {},
   "source": [
    "## Genetic Algorithm Demo\n",
    "\n",
    "Pseudocode:\n",
    "- Initialize a population of individuals randomly\n",
    "- Repeat until convergence criteria met:\n",
    "  - Evaluate fitness of each individuals\n",
    "  - Select individuals for reproduction based on fitness\n",
    "  - Create offspring through crossover and mutation\n",
    "  - Evaluate fitness of offspring\n",
    "  - Select individuals for next generation\n",
    "  - Replace old population wiht new population\n",
    "- End loop"
   ]
  },
  {
   "cell_type": "code",
   "execution_count": null,
   "metadata": {},
   "outputs": [],
   "source": [
    "class individual():\n",
    "    \n",
    "    def __init__(self, crossover, mutation):\n",
    "        self.crossover = crossover\n",
    "        self.mutation = mutation"
   ]
  }
 ],
 "metadata": {
  "kernelspec": {
   "display_name": "Python 3",
   "language": "python",
   "name": "python3"
  },
  "language_info": {
   "codemirror_mode": {
    "name": "ipython",
    "version": 3
   },
   "file_extension": ".py",
   "mimetype": "text/x-python",
   "name": "python",
   "nbconvert_exporter": "python",
   "pygments_lexer": "ipython3",
   "version": "3.8.5"
  }
 },
 "nbformat": 4,
 "nbformat_minor": 4
}
